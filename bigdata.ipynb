{
 "cells": [
  {
   "cell_type": "markdown",
   "id": "b139083a-dffd-43bb-ae03-54861360713d",
   "metadata": {},
   "source": [
    "### choose a gameId,PlayId\n",
    "    example:\n",
    "    gameId:2022091101\n",
    "    playId=85\n",
    "### clean and prepare the data\n",
    "     1: add cloumn[official_position,is_carry_ball,x_qb,y_qb,angle,angle_diffrernce,pass_frame,possession_team,strain]\n",
    "     2: distinguish the main effect: before the ball-caught focus on QB,after that, focus on ball_carrier"
   ]
  },
  {
   "cell_type": "markdown",
   "id": "f5f25f43-6669-4e0f-905c-21261d19c541",
   "metadata": {
    "tags": []
   },
   "source": [
    "### $angle=\\cot{\\frac{|play_{y}-QB_{y}|}{|play_{x}-QB_{y}|}}$\n",
    "### $angle(difference)=|angle-o|$"
   ]
  },
  {
   "cell_type": "markdown",
   "id": "be78b359-d4b6-4c85-ad29-5fe995836e6b",
   "metadata": {},
   "source": [
    "## 1 clean and prepare"
   ]
  },
  {
   "cell_type": "code",
   "execution_count": 188,
   "id": "203473dc-82e0-4574-b0d6-639ab09b978b",
   "metadata": {
    "tags": []
   },
   "outputs": [],
   "source": [
    "import pandas as pd\n",
    "import math\n",
    "import numpy as np\n",
    "import matplotlib.pyplot as plt\n",
    "import matplotlib.patches as patches\n",
    "import matplotlib.animation as animation \n",
    "game_data = pd.read_csv('tracking_week_5.csv')"
   ]
  },
  {
   "cell_type": "code",
   "execution_count": 189,
   "metadata": {},
   "outputs": [
    {
     "name": "stdout",
     "output_type": "stream",
     "text": [
      "[2022100600 2022100900 2022100901 2022100902 2022100903 2022100904\n",
      " 2022100905 2022100906 2022100907 2022100908 2022100909 2022100910\n",
      " 2022100911 2022100912 2022100913 2022101000]\n"
     ]
    }
   ],
   "source": [
    "print(game_data['gameId'].unique())"
   ]
  },
  {
   "cell_type": "code",
   "execution_count": 190,
   "metadata": {},
   "outputs": [
    {
     "name": "stdout",
     "output_type": "stream",
     "text": [
      "[  65   86  107  131  156  177  210  235  322  343  367  392  413  493\n",
      "  517  594  691  717  771  792  870  891  954 1004 1034 1058 1083 1104\n",
      " 1202 1301 1322 1367 1388 1409 1500 1522 1597 1625 1680 1739 1823 1852\n",
      " 1877 1927 1948 1990 2030 2058 2227 2267 2298 2324 2377 2522 2549 2681\n",
      " 2763 2784 2810 2893 2936 3002 3072 3145 3174 3301 3322 3351 3376 3432\n",
      " 3544 3633 3654 3675 3699 3724 3748 3807 3842 3863 3887 3953 4041 4062\n",
      " 4083 4138 4159 4218 4239 4267 4298 4323]\n"
     ]
    }
   ],
   "source": [
    "game_data=game_data[game_data['gameId']==2022100906]\n",
    "print(game_data['playId'].unique())"
   ]
  },
  {
   "cell_type": "code",
   "execution_count": 191,
   "id": "432b0d75-be5b-459d-8053-1cab7c9e371b",
   "metadata": {
    "tags": []
   },
   "outputs": [
    {
     "name": "stdout",
     "output_type": "stream",
     "text": [
      "[nan 'ball_snap' 'handoff' 'first_contact' 'tackle']\n"
     ]
    }
   ],
   "source": [
    "game_data=game_data[game_data['playId']==2267]\n",
    "print(game_data['event'].unique())"
   ]
  },
  {
   "cell_type": "markdown",
   "id": "a8441235-80a1-4223-b22e-5a6173da48c4",
   "metadata": {},
   "source": [
    "#### (there is one important thing that during one single play in a game, there is only one chance to pass the ball from the BQ)"
   ]
  },
  {
   "cell_type": "code",
   "execution_count": 192,
   "id": "02705dd7-8147-4677-be79-1b890bd02baf",
   "metadata": {
    "tags": []
   },
   "outputs": [],
   "source": [
    "#add the colunm\n",
    "players=pd.read_csv('players.csv')\n",
    "plays=pd.read_csv('plays.csv')"
   ]
  },
  {
   "cell_type": "code",
   "execution_count": 193,
   "id": "2f57924f-e1f4-4a03-8315-722f4dad573f",
   "metadata": {
    "tags": []
   },
   "outputs": [],
   "source": [
    "# add the official_position\n",
    "def get_position(name, players_df):\n",
    "    player = players_df[players_df['displayName'] == name]\n",
    "    if not player.empty:\n",
    "        return player.iloc[0]['position']\n",
    "    else:\n",
    "        return None  # or some default value like 'Unknown'\n",
    "\n",
    "# Apply the function to each row in game_data to create the new column\n",
    "game_data['official_position'] = game_data['displayName'].apply(get_position, players_df=players)"
   ]
  },
  {
   "cell_type": "code",
   "execution_count": 194,
   "id": "af990e77-afad-4532-9e4c-f4d8ca98cbfb",
   "metadata": {
    "tags": []
   },
   "outputs": [],
   "source": [
    "# add the is_carry_ball\n",
    "def check_ball_carrier(game_row, players_df):\n",
    "    # Find the play in the players DataFrame that matches the gameId and playId\n",
    "    play = players_df[(players_df['gameId'] == game_row['gameId']) & (players_df['playId'] == game_row['playId'])]\n",
    "    # If the ballCarrierDisplayName matches the displayName, return 1, else return 0\n",
    "    if not play.empty and game_row['displayName'] == play.iloc[0]['ballCarrierDisplayName']:\n",
    "        return 1\n",
    "    else:\n",
    "        return 0\n",
    "\n",
    "# Apply the function to each row in game_data\n",
    "game_data['is_carry_ball'] = game_data.apply(check_ball_carrier, axis=1, players_df=plays)"
   ]
  },
  {
   "cell_type": "code",
   "execution_count": 195,
   "id": "ae5b2b78-3f2b-47b9-846c-184d2186db48",
   "metadata": {
    "tags": []
   },
   "outputs": [],
   "source": [
    "def find_possession_team(game_row, plays_df):\n",
    "    # Find the play in the players DataFrame that matches the gameId and playId\n",
    "    play = plays_df[(plays_df['gameId'] == game_row['gameId']) & (plays_df['playId'] == game_row['playId'])]\n",
    "    # If the play exists and contains the 'possessionTeam' column, return its value, else return None\n",
    "    if not play.empty and 'possessionTeam' in play.columns:\n",
    "        return play.iloc[0]['possessionTeam']\n",
    "    else:\n",
    "        return None\n",
    "\n",
    "# Apply the function to each row in game_data and store the result in 'possessionteam' column\n",
    "game_data['possessionteam'] = game_data.apply(find_possession_team, axis=1, plays_df=plays)"
   ]
  },
  {
   "cell_type": "code",
   "execution_count": 196,
   "id": "0137d7e9-ef9c-4c9b-aed9-938241bb6f77",
   "metadata": {
    "tags": []
   },
   "outputs": [],
   "source": [
    "# add pass_frame\n",
    "def assign_pass_frame(play_data, events_of_interest):\n",
    "    # Group by playId to process each play separately\n",
    "    grouped = play_data.groupby('playId')        \n",
    "        # For each play, find the frame where the event occurred and assign it to all rows of that play\n",
    "    for name, group in grouped:\n",
    "        # Find the frameId where the event occurred\n",
    "        event_frame = group[group['event'].isin(events_of_interest)]['frameId'].min()\n",
    "        # If an event frame is found, assign it to the pass_frame column for the entire group\n",
    "        if not pd.isna(event_frame):\n",
    "            play_data.loc[play_data['playId'] == name, 'pass_frame'] = event_frame\n",
    "        else:\n",
    "            play_data.loc[play_data['playId'] == name, 'pass_frame'] = 1\n",
    "    return play_data\n",
    "    \n",
    "# Define the events we are looking for    \n",
    "events = ['handoff','run','pass_forward','lateral','pass_forward','pass_arrived']\n",
    "game_data=assign_pass_frame(game_data,events)"
   ]
  },
  {
   "cell_type": "code",
   "execution_count": 197,
   "id": "f8a7e7c0-be7d-468d-9a19-336a2075db9e",
   "metadata": {
    "tags": []
   },
   "outputs": [],
   "source": [
    "# add end_frame\n",
    "def assign_end_frame(play_data, events_of_interest):\n",
    "    # Group by playId to process each play separately\n",
    "    grouped = play_data.groupby('playId')\n",
    "    \n",
    "    # For each play, find the frame where the event occurred and assign it to all rows of that play\n",
    "    for name, group in grouped:\n",
    "        # Find the frameId where the event occurred\n",
    "        event_frame = group[group['event'].isin(events_of_interest)]['frameId'].min()\n",
    "        # If an event frame is found, assign it to the pass_frame column for the entire group\n",
    "        if not pd.isna(event_frame):\n",
    "            play_data.loc[play_data['playId'] == name, 'end_frame'] = event_frame\n",
    "    \n",
    "    return play_data\n",
    "\n",
    "# Define the events we are looking for\n",
    "events = ['out_of_bounds', 'tackle','touchdown','qb_sack','qb_slide']\n",
    "game_data=assign_end_frame(game_data,events)\n"
   ]
  },
  {
   "cell_type": "code",
   "execution_count": 198,
   "id": "1176ceb6-490c-4d95-aa4c-f7ea367f3bb6",
   "metadata": {
    "tags": []
   },
   "outputs": [
    {
     "data": {
      "text/html": [
       "<div>\n",
       "<style scoped>\n",
       "    .dataframe tbody tr th:only-of-type {\n",
       "        vertical-align: middle;\n",
       "    }\n",
       "\n",
       "    .dataframe tbody tr th {\n",
       "        vertical-align: top;\n",
       "    }\n",
       "\n",
       "    .dataframe thead th {\n",
       "        text-align: right;\n",
       "    }\n",
       "</style>\n",
       "<table border=\"1\" class=\"dataframe\">\n",
       "  <thead>\n",
       "    <tr style=\"text-align: right;\">\n",
       "      <th></th>\n",
       "      <th>gameId</th>\n",
       "      <th>playId</th>\n",
       "      <th>nflId</th>\n",
       "      <th>displayName</th>\n",
       "      <th>frameId</th>\n",
       "      <th>time</th>\n",
       "      <th>jerseyNumber</th>\n",
       "      <th>club</th>\n",
       "      <th>playDirection</th>\n",
       "      <th>x</th>\n",
       "      <th>...</th>\n",
       "      <th>event</th>\n",
       "      <th>official_position</th>\n",
       "      <th>is_carry_ball</th>\n",
       "      <th>possessionteam</th>\n",
       "      <th>pass_frame</th>\n",
       "      <th>end_frame</th>\n",
       "      <th>x_qb</th>\n",
       "      <th>y_qb</th>\n",
       "      <th>s_strain</th>\n",
       "      <th>angle</th>\n",
       "    </tr>\n",
       "  </thead>\n",
       "  <tbody>\n",
       "    <tr>\n",
       "      <th>0</th>\n",
       "      <td>2022100906</td>\n",
       "      <td>2267</td>\n",
       "      <td>35562.0</td>\n",
       "      <td>Al Woods</td>\n",
       "      <td>1</td>\n",
       "      <td>2022-10-09 14:52:50.099999</td>\n",
       "      <td>99.0</td>\n",
       "      <td>SEA</td>\n",
       "      <td>left</td>\n",
       "      <td>39.38</td>\n",
       "      <td>...</td>\n",
       "      <td>NaN</td>\n",
       "      <td>NT</td>\n",
       "      <td>0</td>\n",
       "      <td>NO</td>\n",
       "      <td>20.0</td>\n",
       "      <td>52.0</td>\n",
       "      <td>-9.58</td>\n",
       "      <td>0.20</td>\n",
       "      <td>9.582087</td>\n",
       "      <td>88.804020</td>\n",
       "    </tr>\n",
       "    <tr>\n",
       "      <th>1</th>\n",
       "      <td>2022100906</td>\n",
       "      <td>2267</td>\n",
       "      <td>37110.0</td>\n",
       "      <td>Andy Dalton</td>\n",
       "      <td>1</td>\n",
       "      <td>2022-10-09 14:52:50.099999</td>\n",
       "      <td>14.0</td>\n",
       "      <td>NO</td>\n",
       "      <td>left</td>\n",
       "      <td>42.38</td>\n",
       "      <td>...</td>\n",
       "      <td>NaN</td>\n",
       "      <td>QB</td>\n",
       "      <td>0</td>\n",
       "      <td>NO</td>\n",
       "      <td>20.0</td>\n",
       "      <td>52.0</td>\n",
       "      <td>-6.58</td>\n",
       "      <td>0.31</td>\n",
       "      <td>6.587298</td>\n",
       "      <td>87.302649</td>\n",
       "    </tr>\n",
       "    <tr>\n",
       "      <th>2</th>\n",
       "      <td>2022100906</td>\n",
       "      <td>2267</td>\n",
       "      <td>41464.0</td>\n",
       "      <td>Shelby Harris</td>\n",
       "      <td>1</td>\n",
       "      <td>2022-10-09 14:52:50.099999</td>\n",
       "      <td>93.0</td>\n",
       "      <td>SEA</td>\n",
       "      <td>left</td>\n",
       "      <td>39.41</td>\n",
       "      <td>...</td>\n",
       "      <td>NaN</td>\n",
       "      <td>DE</td>\n",
       "      <td>0</td>\n",
       "      <td>NO</td>\n",
       "      <td>20.0</td>\n",
       "      <td>52.0</td>\n",
       "      <td>-9.55</td>\n",
       "      <td>-2.75</td>\n",
       "      <td>9.938058</td>\n",
       "      <td>73.935816</td>\n",
       "    </tr>\n",
       "    <tr>\n",
       "      <th>3</th>\n",
       "      <td>2022100906</td>\n",
       "      <td>2267</td>\n",
       "      <td>41532.0</td>\n",
       "      <td>James Hurst</td>\n",
       "      <td>1</td>\n",
       "      <td>2022-10-09 14:52:50.099999</td>\n",
       "      <td>74.0</td>\n",
       "      <td>NO</td>\n",
       "      <td>left</td>\n",
       "      <td>41.83</td>\n",
       "      <td>...</td>\n",
       "      <td>NaN</td>\n",
       "      <td>T</td>\n",
       "      <td>0</td>\n",
       "      <td>NO</td>\n",
       "      <td>20.0</td>\n",
       "      <td>52.0</td>\n",
       "      <td>-7.13</td>\n",
       "      <td>-3.16</td>\n",
       "      <td>7.798878</td>\n",
       "      <td>66.097186</td>\n",
       "    </tr>\n",
       "    <tr>\n",
       "      <th>4</th>\n",
       "      <td>2022100906</td>\n",
       "      <td>2267</td>\n",
       "      <td>42356.0</td>\n",
       "      <td>Andrus Peat</td>\n",
       "      <td>1</td>\n",
       "      <td>2022-10-09 14:52:50.099999</td>\n",
       "      <td>75.0</td>\n",
       "      <td>NO</td>\n",
       "      <td>left</td>\n",
       "      <td>41.86</td>\n",
       "      <td>...</td>\n",
       "      <td>NaN</td>\n",
       "      <td>G</td>\n",
       "      <td>0</td>\n",
       "      <td>NO</td>\n",
       "      <td>20.0</td>\n",
       "      <td>52.0</td>\n",
       "      <td>-7.10</td>\n",
       "      <td>-1.33</td>\n",
       "      <td>7.223496</td>\n",
       "      <td>79.390090</td>\n",
       "    </tr>\n",
       "  </tbody>\n",
       "</table>\n",
       "<p>5 rows × 26 columns</p>\n",
       "</div>"
      ],
      "text/plain": [
       "       gameId  playId    nflId    displayName  frameId  \\\n",
       "0  2022100906    2267  35562.0       Al Woods        1   \n",
       "1  2022100906    2267  37110.0    Andy Dalton        1   \n",
       "2  2022100906    2267  41464.0  Shelby Harris        1   \n",
       "3  2022100906    2267  41532.0    James Hurst        1   \n",
       "4  2022100906    2267  42356.0    Andrus Peat        1   \n",
       "\n",
       "                         time  jerseyNumber club playDirection      x  ...  \\\n",
       "0  2022-10-09 14:52:50.099999          99.0  SEA          left  39.38  ...   \n",
       "1  2022-10-09 14:52:50.099999          14.0   NO          left  42.38  ...   \n",
       "2  2022-10-09 14:52:50.099999          93.0  SEA          left  39.41  ...   \n",
       "3  2022-10-09 14:52:50.099999          74.0   NO          left  41.83  ...   \n",
       "4  2022-10-09 14:52:50.099999          75.0   NO          left  41.86  ...   \n",
       "\n",
       "   event  official_position  is_carry_ball  possessionteam  pass_frame  \\\n",
       "0    NaN                 NT              0              NO        20.0   \n",
       "1    NaN                 QB              0              NO        20.0   \n",
       "2    NaN                 DE              0              NO        20.0   \n",
       "3    NaN                  T              0              NO        20.0   \n",
       "4    NaN                  G              0              NO        20.0   \n",
       "\n",
       "   end_frame  x_qb  y_qb  s_strain      angle  \n",
       "0       52.0 -9.58  0.20  9.582087  88.804020  \n",
       "1       52.0 -6.58  0.31  6.587298  87.302649  \n",
       "2       52.0 -9.55 -2.75  9.938058  73.935816  \n",
       "3       52.0 -7.13 -3.16  7.798878  66.097186  \n",
       "4       52.0 -7.10 -1.33  7.223496  79.390090  \n",
       "\n",
       "[5 rows x 26 columns]"
      ]
     },
     "execution_count": 198,
     "metadata": {},
     "output_type": "execute_result"
    }
   ],
   "source": [
    "#add x-qb,y-qb\n",
    "def qb_coordinates(frame_group):\n",
    "    # Find the QB in the frame\n",
    "    qb_row = frame_group[frame_group['is_carry_ball'] == 1]\n",
    "    if not qb_row.empty:\n",
    "        # Get the QB's x and y coordinates\n",
    "        x_qb, y_qb = qb_row.iloc[0]['x'], qb_row.iloc[0]['y']\n",
    "        # Calculate the difference for each player in the frame\n",
    "        frame_group['x_qb'] = frame_group['x'] - x_qb\n",
    "        frame_group['y_qb'] = frame_group['y'] - y_qb\n",
    "        frame_group['s_strain']=np.sqrt((frame_group['x'] - x_qb)**2 + (frame_group['y'] - y_qb)**2)\n",
    "        frame_group['angle'] = frame_group.apply(lambda row: math.atan2(abs(row['x'] - x_qb),abs(row['y'] - y_qb)), axis=1)\n",
    "        frame_group['angle'] = frame_group['angle'].apply(math.degrees)\n",
    "    return frame_group\n",
    "\n",
    "# Group by frameId and apply the function\n",
    "game_data = game_data.groupby('frameId').apply(qb_coordinates).reset_index(drop=True)\n",
    "game_data.head()"
   ]
  },
  {
   "cell_type": "markdown",
   "id": "26ff8e5c-59bc-41e8-b816-bf2fd24e8efa",
   "metadata": {
    "tags": []
   },
   "source": [
    "#### since we got 10frames/second\n",
    "## $STRAIN(t)=\\frac{-\\frac{s(t)-s(t-1)}{0.1}}{s(t)}$"
   ]
  },
  {
   "cell_type": "code",
   "execution_count": 199,
   "id": "f7077f20-4839-4a86-aa8f-824659586a44",
   "metadata": {
    "tags": []
   },
   "outputs": [],
   "source": [
    "# add the strain\n",
    "def calculate_player_strain(player_group):\n",
    "    # Sort the player's data by frameId to ensure it's in chronological order\n",
    "    player_group = player_group.sort_values(by='frameId')\n",
    "    # Identify the clubs of players who are carrying the ball\n",
    "\n",
    "    # Calculate strain for each player, but skip the first frame\n",
    "    if len(player_group) > 1:\n",
    "        # Calculate the difference between s_strain values of the current frame and the previous frame for the same player\n",
    "        player_group['strain'] = (-((player_group['s_strain'] - player_group['s_strain'].shift(1)) / 0.1) / player_group['s_strain']).fillna(0)\n",
    "    return player_group\n",
    "# Separate football data\n",
    "football_data = game_data[game_data['club'] == 'football']\n",
    "\n",
    "# Separate player data\n",
    "player_data = game_data[game_data['club'] != 'football']\n",
    "\n",
    "# Apply the strain calculation to player data\n",
    "player_data = player_data.groupby('nflId').apply(calculate_player_strain).reset_index(drop=True)\n",
    "\n",
    "# Recombine player data with football data\n",
    "game_data = pd.concat([player_data, football_data], ignore_index=True)\n",
    "carry_ball_clubs = game_data[game_data['is_carry_ball'] == 1]['club'].unique()\n",
    "# For players in these clubs, set 'strain' to 0\n",
    "game_data.loc[game_data['club'].isin(carry_ball_clubs), 'strain'] = 0"
   ]
  },
  {
   "cell_type": "code",
   "execution_count": 200,
   "id": "cc35e7f1-b4f0-48ee-8041-d8be22e0ba75",
   "metadata": {
    "tags": []
   },
   "outputs": [],
   "source": [
    "def calculate_vector(frame_group):\n",
    "    # Calculate the vector for each player in the frame\n",
    "    for index, row in frame_group.iterrows():\n",
    "        dir = row['dir']\n",
    "        x = math.sin(math.radians(180 - dir))\n",
    "        y = math.cos(math.radians(180 - dir))\n",
    "        frame_group.at[index, 'vector_x'] = x\n",
    "        frame_group.at[index, 'vector_y'] = y\n",
    "    \n",
    "    return frame_group\n",
    "\n",
    "# Group by frameId and apply the function\n",
    "game_data = game_data.groupby('frameId').apply(calculate_vector).reset_index(drop=True)"
   ]
  },
  {
   "cell_type": "code",
   "execution_count": 201,
   "id": "cb00b33b-eec3-46c6-a74d-76a079c5cfff",
   "metadata": {
    "tags": []
   },
   "outputs": [],
   "source": [
    "import pandas as pd\n",
    "import numpy as np\n",
    "\n",
    "# Function to calculate dot product\n",
    "def dot_product(vec1, vec2):\n",
    "    return np.dot(vec1, vec2)\n",
    "\n",
    "# Function to check if a vector is valid (not NaN)\n",
    "def is_valid_vector(vector):\n",
    "    return not np.isnan(vector).any()\n",
    "\n",
    "\n",
    "df = game_data\n",
    "\n",
    "# Add the 'BULLE' column to the dataframe\n",
    "df['delta_angle'] = 0\n",
    "\n",
    "# Identify the clubs of players who are carrying the ball\n",
    "carry_ball_clubs = df[df['is_carry_ball'] == 1]['club'].unique()\n",
    "\n",
    "\n",
    "\n",
    "# Processing each row for dot product calculations\n",
    "for index, row in df.iterrows():\n",
    "    frame = row['frameId']\n",
    "    player_vector = np.array([row['vector_x'], row['vector_y']])\n",
    "\n",
    "    # Initialize default values for vectors\n",
    "    current_vector = np.array([np.nan, np.nan])\n",
    "    pre_vector = np.array([np.nan, np.nan])\n",
    "\n",
    "    # Get current_vector for frameId == frame and is_carry_ball == 1\n",
    "    current_vector_row = df[(df['frameId'] == frame) & (df['is_carry_ball'] == 1)]\n",
    "    if not current_vector_row.empty:\n",
    "        current_vector = np.array([current_vector_row.iloc[0]['vector_x'], current_vector_row.iloc[0]['vector_y']])\n",
    "\n",
    "    # Get pre_vector for frameId == frame - 1 and is_carry_ball == 1\n",
    "    pre_vector_row = df[(df['frameId'] == frame - 1) & (df['is_carry_ball'] == 1)]\n",
    "    if not pre_vector_row.empty:\n",
    "        pre_vector = np.array([pre_vector_row.iloc[0]['vector_x'], pre_vector_row.iloc[0]['vector_y']])\n",
    "\n",
    "    # Check if both current and previous vectors are valid before calculating dot products\n",
    "    if is_valid_vector(current_vector) and is_valid_vector(pre_vector) and is_valid_vector(player_vector):\n",
    "        # Compute dot products\n",
    "        dot_product_pre = dot_product(pre_vector, player_vector)\n",
    "        dot_product_current = dot_product(current_vector, player_vector)\n",
    "\n",
    "        # Set the current row's 'BULLE' as the difference between the two dot products\n",
    "        df.at[index, 'delta_angle'] = dot_product_current - dot_product_pre\n",
    "    else:\n",
    "        # Set default value if vectors are not valid\n",
    "        df.at[index, 'delta_angle'] = 0\n",
    "# For players in these clubs, set 'BULLE' to 0\n",
    "df.loc[df['club'].isin(carry_ball_clubs), 'delta_angle'] = 0\n",
    "df['BULLE'] = df['strain'] * df['delta_angle'] + df['delta_angle']+df['strain']\n",
    "# 1. 获取值[\"pass_frame\", 'end_frame']\n",
    "pass_frame = int(game_data['pass_frame'].values[0])  # 假设'pass_frame'列中所有值都相同\n",
    "end_frame = int(game_data['end_frame'].values[0])  # 假设'end_frame'列中所有值都相同\n",
    "\n",
    "# 2. 对于每个球员，如果['frameId']小于pass_frame或大于'end_frame'，则将['BULLE']设置为0\n",
    "game_data['BULLE'] = game_data.apply(lambda row: 0 if (int(row['frameId']) < pass_frame or int(row['frameId']) > end_frame) else row['BULLE'], axis=1)\n",
    "\n"
   ]
  },
  {
   "cell_type": "markdown",
   "id": "876c90f9-9035-463f-9c27-dd322659e06c",
   "metadata": {},
   "source": [
    "## visualization"
   ]
  },
  {
   "cell_type": "code",
   "execution_count": 202,
   "id": "fc0151d5-d583-4ff9-a2f3-d7864c3d153c",
   "metadata": {
    "tags": []
   },
   "outputs": [],
   "source": [
    "# draw the background\n",
    "# Adjusting the football field drawing function to match the provided screenshot\n",
    "import matplotlib.pyplot as plt\n",
    "import matplotlib.patches as patches\n",
    "\n",
    "def draw_football_field_labeled(ax):\n",
    "    \"\"\"\n",
    "    This function draws a football field as per the dimensions and markings seen in the provided screenshot.\n",
    "    \"\"\"\n",
    "    # Field dimensions\n",
    "    field_length = 120\n",
    "    field_width = 53.3\n",
    "    end_zone_length = 10  # Length of end zone on both sides\n",
    "    \n",
    "    # Create a rectangle for the field area\n",
    "    field = patches.Rectangle((0, 0), field_length, field_width, linewidth=0.1, edgecolor='gray', facecolor='gray', zorder=0)\n",
    "    ax.add_patch(field)\n",
    "    \n",
    "    # Add end zones\n",
    "    end_zone1 = patches.Rectangle((0, 0), end_zone_length, field_width, linewidth=0.1, edgecolor='blue', facecolor='gray', alpha=0.2, zorder=1)\n",
    "    end_zone2 = patches.Rectangle((field_length-end_zone_length, 0), end_zone_length, field_width, linewidth=0.1, edgecolor='blue', facecolor='gray', alpha=0.2, zorder=1)\n",
    "    ax.add_patch(end_zone1)\n",
    "    ax.add_patch(end_zone2)\n",
    "    \n",
    "    # Add yard lines and hashes\n",
    "    for x in range(10, field_length, 10):\n",
    "        ax.plot([x, x], [0, field_width], color=\"white\", zorder=2)  # Full yard line across the field\n",
    "        # Drawing the small hash marks on each side of the field\n",
    "        for y in range(0, int(field_width)+1, 1):\n",
    "            if y % 10 == 0:  # Major yard line\n",
    "                hash_length = 0.8\n",
    "            else:  # Minor yard line\n",
    "                hash_length = 0.4\n",
    "            ax.plot([x-hash_length, x+hash_length], [y, y], color=\"white\", zorder=2)\n",
    "    \n",
    "    # Add numbers every ten yards\n",
    "    for x in range(20, field_length, 10):\n",
    "        ax.text(x-2, 12, str(x-10), color=\"white\", size='small', verticalalignment='center', horizontalalignment='center', zorder=3)\n",
    "        ax.text(x-2, field_width-12, str(x-10), color=\"white\", size='small', verticalalignment='center', horizontalalignment='center', zorder=3, rotation=180)\n",
    "    \n",
    "    # Set the limits of the field to a bit beyond the actual field for a nicer view\n",
    "    ax.set_xlim(-5, field_length+5)\n",
    "    ax.set_ylim(-5, field_width+5)\n",
    "    \n",
    "    # Remove axis labels and ticks\n",
    "    ax.set_xticks([])\n",
    "    ax.set_yticks([])\n",
    "    ax.set_xticklabels([])\n",
    "    ax.set_yticklabels([])\n",
    "\n",
    "    # Set aspect to be equal so the field is not skewed\n",
    "    ax.set_aspect(aspect='equal')"
   ]
  },
  {
   "cell_type": "code",
   "execution_count": 203,
   "id": "28f0f435-caf6-4ea3-b72d-581d67916a2c",
   "metadata": {
    "tags": []
   },
   "outputs": [],
   "source": [
    "game_data.to_csv('1.csv')"
   ]
  },
  {
   "cell_type": "code",
   "execution_count": 204,
   "id": "1f805351-da15-493c-8f58-85ac3f974e2c",
   "metadata": {
    "tags": []
   },
   "outputs": [],
   "source": [
    "# Create the animation\n",
    "max_frame = game_data['frameId'].max()\n",
    "unique_clubs = game_data['club'].unique()\n",
    "football = game_data[game_data['club'] == 'football']\n",
    "players_club1 = game_data[game_data['club'] =='NO' ]\n",
    "players_club2 = game_data[game_data['club'] =='SEA' ]"
   ]
  },
  {
   "cell_type": "code",
   "execution_count": 79,
   "id": "045e925a-f25c-467c-865a-7d485560b8a8",
   "metadata": {
    "collapsed": true,
    "jupyter": {
     "outputs_hidden": true,
     "source_hidden": true
    },
    "tags": []
   },
   "outputs": [
    {
     "data": {
      "image/png": "[encoded data removed]",
      "text/plain": [
       "<Figure size 1200x666 with 1 Axes>"
      ]
     },
     "metadata": {},
     "output_type": "display_data"
    }
   ],
   "source": [
    "# 原始版本\n",
    "def animate(frame_id):\n",
    "    ax.clear()\n",
    "    draw_football_field_labeled(ax)\n",
    "    players_club1_frame = players_club1[players_club1['frameId'] == frame_id]\n",
    "    players_club2_frame = players_club2[players_club2['frameId'] == frame_id]\n",
    "    football_frame = football[football['frameId'] == frame_id]\n",
    "\n",
    "    # Adjust circle sizes based on strain and strain_assistance\n",
    "    #size_club1 = players_club1_frame.apply(lambda row: max(5, (row['strain']*100), axis=1)\n",
    "    #size_club2 = players_club2_frame.apply(lambda row: max(5, (row['strain']*100), axis=1)\n",
    "    size_club1 = players_club1_frame.apply(lambda row: max(5, (row['BULLE'])*200 ), axis=1)\n",
    "    size_club2 = players_club2_frame.apply(lambda row: max(5, (row['BULLE'])*200 ), axis=1)\n",
    "    ax.scatter(players_club1_frame['x'], players_club1_frame['y'], s=size_club1, color='red', label='Club 1',zorder=5)\n",
    "    ax.scatter(players_club2_frame['x'], players_club2_frame['y'], s=size_club2, color='black', label='Club 2',zorder=5)\n",
    "    ax.scatter(football_frame['x'], football_frame['y'], color='blue', s=10, label='Football',zorder=5)  # Fixed size for football\n",
    "    ax.legend(loc='upper right')\n",
    "\n",
    "\n",
    "\n",
    "fig, ax = plt.subplots(figsize=(12, 6.66))\n",
    "draw_football_field_labeled(ax)\n",
    "ani = animation.FuncAnimation(fig, animate, frames=max_frame, interval=100)\n",
    "\n",
    "# Save the animation as a GIF using Pillow\n",
    "ani.save('player_movement_animation.gif', writer='pillow', fps=10)  # Adjust fps as needed\n",
    "\n",
    "plt.show()"
   ]
  },
  {
   "cell_type": "code",
   "execution_count": 224,
   "id": "f7fe6985-99b2-445c-a1c0-09389809ce47",
   "metadata": {
    "collapsed": true,
    "jupyter": {
     "outputs_hidden": true,
     "source_hidden": true
    },
    "tags": []
   },
   "outputs": [
    {
     "data": {
      "image/png": "[encoded data removed]",
      "text/plain": [
       "<Figure size 1200x666 with 1 Axes>"
      ]
     },
     "metadata": {},
     "output_type": "display_data"
    }
   ],
   "source": [
    "# 指定名字球员变大\n",
    "import matplotlib.pyplot as plt\n",
    "import matplotlib.animation as animation\n",
    "\n",
    "\n",
    "def set_marker_size(player):\n",
    "    if player['displayName'] == 'Brian Burns':\n",
    "        return 15  # Set a specific size for the player with the specific display name\n",
    "    else:\n",
    "        return 5  # Set a default size for other players\n",
    "\n",
    "# Function to animate each frame\n",
    "def animate(frame_id):\n",
    "    ax.clear()\n",
    "    draw_football_field_labeled(ax)\n",
    "    players_club1_frame = players_club1[players_club1['frameId'] == frame_id]\n",
    "    players_club2_frame = players_club2[players_club2['frameId'] == frame_id]\n",
    "    football_frame = football[football['frameId'] == frame_id]\n",
    "\n",
    "    size_club1 = players_club1_frame.apply(set_marker_size, axis=1)\n",
    "    size_club2 = players_club2_frame.apply(set_marker_size, axis=1)\n",
    "\n",
    "    ax.scatter(players_club1_frame['x'], players_club1_frame['y'], s=size_club1, color='red', label='Club 1', zorder=5)\n",
    "    ax.scatter(players_club2_frame['x'], players_club2_frame['y'], s=size_club2, color='black', label='Club 2', zorder=5)\n",
    "    ax.scatter(football_frame['x'], football_frame['y'], color='blue', s=10, label='Football', zorder=5)\n",
    "\n",
    "    ax.legend(loc='upper right')\n",
    "\n",
    "fig, ax = plt.subplots(figsize=(12, 6.66))\n",
    "draw_football_field_labeled(ax)\n",
    "ani = animation.FuncAnimation(fig, animate, frames=max_frame, interval=100)\n",
    "\n",
    "# Save the animation as a GIF using Pillow\n",
    "ani.save('player_movement_animation.gif', writer='pillow', fps=10)  # Adjust fps as needed\n",
    "\n",
    "plt.show()\n"
   ]
  },
  {
   "cell_type": "code",
   "execution_count": 205,
   "id": "d47cc3b2-f185-4c98-9cdc-a9a3f341e691",
   "metadata": {
    "tags": []
   },
   "outputs": [
    {
     "data": {
      "image/png": "[encoded data removed]",
      "text/plain": [
       "<Figure size 1200x666 with 1 Axes>"
      ]
     },
     "metadata": {},
     "output_type": "display_data"
    }
   ],
   "source": [
    "#最大BULLE显示黄色\n",
    "def animate(frame_id):\n",
    "    ax.clear()\n",
    "    draw_football_field_labeled(ax)\n",
    "    players_club1_frame = players_club1[players_club1['frameId'] == frame_id]\n",
    "    players_club2_frame = players_club2[players_club2['frameId'] == frame_id]\n",
    "    football_frame = football[football['frameId'] == frame_id]\n",
    "\n",
    "    # Adjust circle sizes based on strain and strain_assistance\n",
    "    size_club1 = players_club1_frame.apply(lambda row: max(5, (row['strain'])*(row['delta_angle'])*200 ), axis=1)\n",
    "    size_club2 = players_club2_frame.apply(lambda row: max(5, (row['strain'])*(row['delta_angle'])*200 ), axis=1)\n",
    "    \n",
    "    # Check if there are any rows in the DataFrames\n",
    "    if not players_club1_frame.empty:\n",
    "        # Find the player with the maximum 'BULLE' value in Club 1\n",
    "        max_bulle_player_club1 = players_club1_frame.loc[players_club1_frame['BULLE'].idxmax()]\n",
    "        max_bulle_value_club1 = max_bulle_player_club1['BULLE']\n",
    "        ax.scatter(players_club1_frame['x'], players_club1_frame['y'], s=size_club1, color='red', label='Club 1',zorder=5)\n",
    "        if max_bulle_value_club1 > 0:\n",
    "            ax.scatter(max_bulle_player_club1['x'], max_bulle_player_club1['y'], s=size_club1.loc[max_bulle_player_club1.name], color='yellow', label='Club 1 (Max BULLE)', zorder=5)\n",
    "    \n",
    "    if not players_club2_frame.empty:\n",
    "        # Find the player with the maximum 'BULLE' value in Club 2\n",
    "        max_bulle_player_club2 = players_club2_frame.loc[players_club2_frame['BULLE'].idxmax()]\n",
    "        max_bulle_value_club2 = max_bulle_player_club2['BULLE']\n",
    "        ax.scatter(players_club2_frame['x'], players_club2_frame['y'], s=size_club2, color='black', label='Club 2',zorder=5)\n",
    "        if max_bulle_value_club2 > 0:\n",
    "            ax.scatter(max_bulle_player_club2['x'], max_bulle_player_club2['y'], s=size_club2.loc[max_bulle_player_club2.name], color='yellow', label='Club 2 (Max BULLE)', zorder=5)\n",
    "\n",
    "    ax.scatter(football_frame['x'], football_frame['y'], color='blue', s=10, label='Football',zorder=5)  # Fixed size for football\n",
    "    ax.legend(loc='upper right')\n",
    "\n",
    "fig, ax = plt.subplots(figsize=(12, 6.66))\n",
    "draw_football_field_labeled(ax)\n",
    "ani = animation.FuncAnimation(fig, animate, frames=max_frame, interval=100)\n",
    "\n",
    "# Save the animation as a GIF using Pillow\n",
    "ani.save('player_movement_animation.gif', writer='pillow', fps=10)  # Adjust fps as needed\n",
    "\n",
    "plt.show()\n"
   ]
  },
  {
   "cell_type": "markdown",
   "id": "d1c487a9-4820-4c11-927e-a41c4f8d3db7",
   "metadata": {},
   "source": [
    "# cumulative calculate the strain in every play and ranking the player"
   ]
  },
  {
   "cell_type": "markdown",
   "id": "00a64992-c7e6-411b-9642-2ce267bec950",
   "metadata": {},
   "source": [
    "# add a new matric to value the man help to get score"
   ]
  },
  {
   "cell_type": "markdown",
   "id": "badaec97-6251-42e2-84ed-6308a2953738",
   "metadata": {},
   "source": [
    "### $motion\\ vector(RU)=(\\sin(\\frac{180-dir_{t}^{RU}}{180}\\pi),\\cos(\\frac{180-dir_{t}^{RU}}{180}\\pi))$\n",
    "### $angle=motion\\ vector(RU) \\cdot motion\\ vector(j)$\n",
    "### $\\Delta \\overrightarrow{angle}=angle_{t}-angle_{t-1}$\n",
    "    RU: the palyer who carry the football,\n",
    "    j:the defence player\n",
    "    t:the frame"
   ]
  },
  {
   "cell_type": "markdown",
   "id": "5ba87710-5541-4644-ab47-9fb65758a7fa",
   "metadata": {},
   "source": [
    "#### simply demonstrate the $\\Delta angle$ goes bigger when the defence player play a nice role to stop offence"
   ]
  },
  {
   "cell_type": "markdown",
   "id": "d3c81dcb-d963-4c3d-bbc7-6ac6af537d21",
   "metadata": {},
   "source": [
    "![Image Alt Text](vector.svg)"
   ]
  },
  {
   "cell_type": "markdown",
   "id": "c3174527-77b4-499a-9799-33f8d519e535",
   "metadata": {},
   "source": [
    "### $$\\Delta S=\\sqrt{(x^{RU}-x_j)^2+(y^{RU}-y_j)^2}$$"
   ]
  },
  {
   "cell_type": "markdown",
   "id": "94778ccf-6520-48b8-8dd2-fd5091d5cc62",
   "metadata": {},
   "source": [
    "### $$BULLY={\\frac{\\Delta S_{t-1}-\\Delta S_{t}}{0.1 \\cdot{\\Delta S_t}}*angle}$$"
   ]
  },
  {
   "cell_type": "code",
   "execution_count": 206,
   "metadata": {},
   "outputs": [
    {
     "data": {
      "text/html": [
       "<div>\n",
       "<style scoped>\n",
       "    .dataframe tbody tr th:only-of-type {\n",
       "        vertical-align: middle;\n",
       "    }\n",
       "\n",
       "    .dataframe tbody tr th {\n",
       "        vertical-align: top;\n",
       "    }\n",
       "\n",
       "    .dataframe thead th {\n",
       "        text-align: right;\n",
       "    }\n",
       "</style>\n",
       "<table border=\"1\" class=\"dataframe\">\n",
       "  <thead>\n",
       "    <tr style=\"text-align: right;\">\n",
       "      <th></th>\n",
       "      <th>displayName</th>\n",
       "      <th>frameId</th>\n",
       "      <th>BULLE</th>\n",
       "      <th>dir</th>\n",
       "      <th>s</th>\n",
       "    </tr>\n",
       "  </thead>\n",
       "  <tbody>\n",
       "    <tr>\n",
       "      <th>0</th>\n",
       "      <td>Al Woods</td>\n",
       "      <td>1</td>\n",
       "      <td>0.0</td>\n",
       "      <td>72.09</td>\n",
       "      <td>0.00</td>\n",
       "    </tr>\n",
       "    <tr>\n",
       "      <th>1</th>\n",
       "      <td>Andy Dalton</td>\n",
       "      <td>1</td>\n",
       "      <td>0.0</td>\n",
       "      <td>317.48</td>\n",
       "      <td>0.50</td>\n",
       "    </tr>\n",
       "    <tr>\n",
       "      <th>2</th>\n",
       "      <td>Shelby Harris</td>\n",
       "      <td>1</td>\n",
       "      <td>0.0</td>\n",
       "      <td>75.58</td>\n",
       "      <td>0.00</td>\n",
       "    </tr>\n",
       "    <tr>\n",
       "      <th>3</th>\n",
       "      <td>James Hurst</td>\n",
       "      <td>1</td>\n",
       "      <td>0.0</td>\n",
       "      <td>38.01</td>\n",
       "      <td>0.00</td>\n",
       "    </tr>\n",
       "    <tr>\n",
       "      <th>4</th>\n",
       "      <td>Andrus Peat</td>\n",
       "      <td>1</td>\n",
       "      <td>0.0</td>\n",
       "      <td>322.69</td>\n",
       "      <td>0.04</td>\n",
       "    </tr>\n",
       "  </tbody>\n",
       "</table>\n",
       "</div>"
      ],
      "text/plain": [
       "     displayName  frameId  BULLE     dir     s\n",
       "0       Al Woods        1    0.0   72.09  0.00\n",
       "1    Andy Dalton        1    0.0  317.48  0.50\n",
       "2  Shelby Harris        1    0.0   75.58  0.00\n",
       "3    James Hurst        1    0.0   38.01  0.00\n",
       "4    Andrus Peat        1    0.0  322.69  0.04"
      ]
     },
     "execution_count": 206,
     "metadata": {},
     "output_type": "execute_result"
    }
   ],
   "source": [
    "data=pd.read_csv('1.csv')\n",
    "data=data[['displayName','frameId','BULLE','dir','s']]\n",
    "data.head()"
   ]
  },
  {
   "cell_type": "code",
   "execution_count": 213,
   "metadata": {},
   "outputs": [
    {
     "name": "stderr",
     "output_type": "stream",
     "text": [
      "/var/folders/hd/zd7rnk9n0453drzkfxq8n1w00000gn/T/ipykernel_1215/1839568200.py:14: SettingWithCopyWarning: \n",
      "A value is trying to be set on a copy of a slice from a DataFrame.\n",
      "Try using .loc[row_indexer,col_indexer] = value instead\n",
      "\n",
      "See the caveats in the documentation: https://pandas.pydata.org/pandas-docs/stable/user_guide/indexing.html#returning-a-view-versus-a-copy\n",
      "  alvin_kamara_data['computed_column'] = alvin_kamara_data['s'] * np.sin(np.radians(180 - alvin_kamara_data['dir']))\n"
     ]
    },
    {
     "data": {
      "image/png": "[encoded data removed]",
      "text/plain": [
       "<Figure size 1200x600 with 1 Axes>"
      ]
     },
     "metadata": {},
     "output_type": "display_data"
    }
   ],
   "source": [
    "# 创建一个包含所需玩家的列表\n",
    "players = ['Al Woods', 'Cody Barton', 'Michael Jackson', 'Poona Ford']\n",
    "\n",
    "# 创建一个坐标轴对象\n",
    "fig, ax = plt.subplots(figsize=(12, 6))\n",
    "\n",
    "# 循环遍历每个玩家并绘制相应的曲线\n",
    "for player in players:\n",
    "    player_data = data[data['displayName'] == player]\n",
    "    ax.plot(player_data['frameId'], player_data['BULLE'], label=f'BULLE ({player})')\n",
    "\n",
    "# 计算并绘制Alvin Kamara的计算列随时间变化曲线\n",
    "alvin_kamara_data = data[data['displayName'] == 'Alvin Kamara']\n",
    "alvin_kamara_data['computed_column'] = alvin_kamara_data['s'] * np.sin(np.radians(180 - alvin_kamara_data['dir']))\n",
    "ax.plot(alvin_kamara_data['frameId'], alvin_kamara_data['computed_column'], label='speed(abs,Alvin Kamara)')\n",
    "\n",
    "# 设置坐标轴标签和标题\n",
    "ax.set_xlabel('frameId')\n",
    "ax.set_ylabel('Value')\n",
    "ax.set_title('BULLE VS speed')\n",
    "\n",
    "# 添加图例\n",
    "ax.legend()\n",
    "\n",
    "# 显示图形\n",
    "plt.show()"
   ]
  },
  {
   "cell_type": "code",
   "execution_count": null,
   "metadata": {},
   "outputs": [],
   "source": []
  }
 ],
 "metadata": {
  "kernelspec": {
   "display_name": "Python 3 (ipykernel)",
   "language": "python",
   "name": "python3"
  },
  "language_info": {
   "codemirror_mode": {
    "name": "ipython",
    "version": 3
   },
   "file_extension": ".py",
   "mimetype": "text/x-python",
   "name": "python",
   "nbconvert_exporter": "python",
   "pygments_lexer": "ipython3",
   "version": "3.11.5"
  }
 },
 "nbformat": 4,
 "nbformat_minor": 5
}
